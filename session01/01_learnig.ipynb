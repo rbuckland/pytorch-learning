{
 "cells": [
  {
   "cell_type": "code",
   "execution_count": 21,
   "metadata": {},
   "outputs": [
    {
     "data": {
      "text/html": [
       "<table>\n",
       "<tbody>\n",
       "<tr><td>torch     </td><td>2.2.0+cu121</td></tr>\n",
       "<tr><td>pandas    </td><td>2.2.0      </td></tr>\n",
       "<tr><td>numpy     </td><td>1.26.4     </td></tr>\n",
       "<tr><td>matplotlib</td><td>3.8.3      </td></tr>\n",
       "</tbody>\n",
       "</table>"
      ],
      "text/plain": [
       "'<table>\\n<tbody>\\n<tr><td>torch     </td><td>2.2.0+cu121</td></tr>\\n<tr><td>pandas    </td><td>2.2.0      </td></tr>\\n<tr><td>numpy     </td><td>1.26.4     </td></tr>\\n<tr><td>matplotlib</td><td>3.8.3      </td></tr>\\n</tbody>\\n</table>'"
      ]
     },
     "execution_count": 21,
     "metadata": {},
     "output_type": "execute_result"
    }
   ],
   "source": [
    "import torch \n",
    "import pandas as pd\n",
    "import numpy as np\n",
    "import matplotlib as plt\n",
    "import tabulate\n",
    "\n",
    "versions = []\n",
    "for i in (torch, pd, np, plt):\n",
    "    versions.append((i.__name__, i.__version__))\n",
    "\n",
    "tabulate.tabulate(versions, tablefmt='html')\n"
   ]
  },
  {
   "cell_type": "code",
   "execution_count": 22,
   "metadata": {},
   "outputs": [
    {
     "name": "stdout",
     "output_type": "stream",
     "text": [
      "tensor(3.1416)\n"
     ]
    },
    {
     "data": {
      "text/plain": [
       "0"
      ]
     },
     "execution_count": 22,
     "metadata": {},
     "output_type": "execute_result"
    }
   ],
   "source": [
    "scalar = torch.tensor(3.14159)\n",
    "print(scalar)\n",
    "scalar.ndim"
   ]
  },
  {
   "cell_type": "code",
   "execution_count": 28,
   "metadata": {},
   "outputs": [
    {
     "ename": "NameError",
     "evalue": "name 'scala' is not defined",
     "output_type": "error",
     "traceback": [
      "\u001b[0;31m---------------------------------------------------------------------------\u001b[0m",
      "\u001b[0;31mNameError\u001b[0m                                 Traceback (most recent call last)",
      "\u001b[1;32m/home/rbuckland/projects/github.com/rbuckland/pytorch-learning/session01/01_learnig.ipynb Cell 3\u001b[0m line \u001b[0;36m1\n\u001b[0;32m----> <a href='vscode-notebook-cell:/home/rbuckland/projects/github.com/rbuckland/pytorch-learning/session01/01_learnig.ipynb#W2sZmlsZQ%3D%3D?line=0'>1</a>\u001b[0m scala\u001b[39m.\u001b[39mitem()\n",
      "\u001b[0;31mNameError\u001b[0m: name 'scala' is not defined"
     ]
    }
   ],
   "source": [
    "scalar.item()"
   ]
  }
 ],
 "metadata": {
  "kernelspec": {
   "display_name": ".venv",
   "language": "python",
   "name": "python3"
  },
  "language_info": {
   "codemirror_mode": {
    "name": "ipython",
    "version": 3
   },
   "file_extension": ".py",
   "mimetype": "text/x-python",
   "name": "python",
   "nbconvert_exporter": "python",
   "pygments_lexer": "ipython3",
   "version": "3.10.12"
  }
 },
 "nbformat": 4,
 "nbformat_minor": 2
}
